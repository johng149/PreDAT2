{
 "cells": [
  {
   "cell_type": "code",
   "execution_count": 1,
   "metadata": {},
   "outputs": [],
   "source": [
    "from transformers import PreTrainedTokenizerBase\n",
    "from datasets import load_dataset\n",
    "from pathlib import Path\n",
    "import json"
   ]
  },
  {
   "cell_type": "code",
   "execution_count": 2,
   "metadata": {},
   "outputs": [],
   "source": [
    "def process(\n",
    "    tokenizer: PreTrainedTokenizerBase,\n",
    "    tokenizer_name: str,\n",
    "    output_dir: str,\n",
    "):\n",
    "    def tokenize_sample(sample):\n",
    "        text = sample[\"text\"]\n",
    "        encoded = tokenizer.encode(text, return_tensors=\"pt\").squeeze(0)\n",
    "        return {\"input_ids\": encoded}\n",
    "\n",
    "    wiki_en = load_dataset(\"wikipedia\", \"20220301.en\", split=\"train\")\n",
    "    wiki_split = wiki_en.train_test_split(test_size=0.1)\n",
    "    wiki_en_train = wiki_split[\"train\"]\n",
    "    wiki_en_validation = wiki_split[\"test\"]\n",
    "\n",
    "    save_location = Path(output_dir)\n",
    "    save_meta_location = save_location / \"meta.json\"\n",
    "\n",
    "    wiki_en_train = wiki_en_train.map(tokenize_sample)\n",
    "    wiki_en_validation = wiki_en_validation.map(tokenize_sample)\n",
    "    \n",
    "    wiki_en_train = wiki_en_train.remove_columns([\"id\", \"title\", \"text\", \"url\"])\n",
    "    wiki_en_validation = wiki_en_validation.remove_columns([\"id\", \"title\", \"text\", \"url\"])\n",
    "    \n",
    "    wiki_en_train.set_format(\"torch\", columns=[\"input_ids\"])\n",
    "    wiki_en_validation.set_format(\"torch\", columns=[\"input_ids\"])\n",
    "    \n",
    "    wiki_en_train.save_to_disk(save_location / \"train\")\n",
    "    wiki_en_validation.save_to_disk(save_location / \"test\")\n",
    "    with open(save_meta_location, \"w\") as f:\n",
    "        json.dump(\n",
    "            {\n",
    "                \"tokenizer_name\": tokenizer_name\n",
    "            },\n",
    "            f\n",
    "        )"
   ]
  },
  {
   "cell_type": "code",
   "execution_count": 5,
   "metadata": {},
   "outputs": [],
   "source": [
    "def get_data(data):\n",
    "    return data.select([0])[\"input_ids\"]"
   ]
  },
  {
   "cell_type": "code",
   "execution_count": 4,
   "metadata": {},
   "outputs": [],
   "source": [
    "from transformers import AutoTokenizer"
   ]
  },
  {
   "cell_type": "code",
   "execution_count": 5,
   "metadata": {},
   "outputs": [],
   "source": [
    "gpt2 = AutoTokenizer.from_pretrained(\"gpt2\")"
   ]
  },
  {
   "cell_type": "code",
   "execution_count": null,
   "metadata": {},
   "outputs": [],
   "source": [
    "process(\n",
    "    tokenizer=gpt2,\n",
    "    tokenizer_name=\"gpt2\",\n",
    "    output_dir=\"data/wikipedia\"\n",
    ")"
   ]
  },
  {
   "cell_type": "code",
   "execution_count": 6,
   "metadata": {},
   "outputs": [],
   "source": [
    "from datasets import load_from_disk"
   ]
  },
  {
   "cell_type": "code",
   "execution_count": 7,
   "metadata": {},
   "outputs": [],
   "source": [
    "data = load_from_disk(\"data/wikipedia/test\")"
   ]
  },
  {
   "cell_type": "code",
   "execution_count": 9,
   "metadata": {},
   "outputs": [],
   "source": [
    "result = get_data(data)"
   ]
  },
  {
   "cell_type": "code",
   "execution_count": 10,
   "metadata": {},
   "outputs": [
    {
     "data": {
      "text/plain": [
       "torch.Size([1, 282])"
      ]
     },
     "execution_count": 10,
     "metadata": {},
     "output_type": "execute_result"
    }
   ],
   "source": [
    "result.shape"
   ]
  },
  {
   "cell_type": "code",
   "execution_count": 12,
   "metadata": {},
   "outputs": [
    {
     "data": {
      "text/plain": [
       "645867"
      ]
     },
     "execution_count": 12,
     "metadata": {},
     "output_type": "execute_result"
    }
   ],
   "source": [
    "len(data)"
   ]
  },
  {
   "cell_type": "code",
   "execution_count": 14,
   "metadata": {},
   "outputs": [
    {
     "data": {
      "text/plain": [
       "282"
      ]
     },
     "execution_count": 14,
     "metadata": {},
     "output_type": "execute_result"
    }
   ],
   "source": [
    "len(result.flatten())"
   ]
  },
  {
   "cell_type": "code",
   "execution_count": null,
   "metadata": {},
   "outputs": [],
   "source": []
  }
 ],
 "metadata": {
  "kernelspec": {
   "display_name": ".venv",
   "language": "python",
   "name": "python3"
  },
  "language_info": {
   "codemirror_mode": {
    "name": "ipython",
    "version": 3
   },
   "file_extension": ".py",
   "mimetype": "text/x-python",
   "name": "python",
   "nbconvert_exporter": "python",
   "pygments_lexer": "ipython3",
   "version": "3.11.11"
  }
 },
 "nbformat": 4,
 "nbformat_minor": 2
}
