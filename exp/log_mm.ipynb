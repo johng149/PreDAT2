{
 "cells": [
  {
   "cell_type": "code",
   "execution_count": 15,
   "metadata": {},
   "outputs": [],
   "source": [
    "import torch"
   ]
  },
  {
   "cell_type": "code",
   "execution_count": 16,
   "metadata": {},
   "outputs": [],
   "source": [
    "batch_size = 2\n",
    "n = 3\n",
    "m = 4\n",
    "r = 5"
   ]
  },
  {
   "cell_type": "code",
   "execution_count": 17,
   "metadata": {},
   "outputs": [],
   "source": [
    "a = torch.randn(batch_size, n, r)\n",
    "b = torch.randn(batch_size, r, m)"
   ]
  },
  {
   "cell_type": "code",
   "execution_count": 18,
   "metadata": {},
   "outputs": [],
   "source": [
    "# ensure positive\n",
    "a = torch.abs(a)\n",
    "b = torch.abs(b)"
   ]
  },
  {
   "cell_type": "code",
   "execution_count": 19,
   "metadata": {},
   "outputs": [],
   "source": [
    "b[0][0][2] = 0"
   ]
  },
  {
   "cell_type": "code",
   "execution_count": 20,
   "metadata": {},
   "outputs": [],
   "source": [
    "expected = torch.bmm(a, b)"
   ]
  },
  {
   "cell_type": "code",
   "execution_count": 21,
   "metadata": {},
   "outputs": [],
   "source": [
    "def log_bmm2(log_A, log_B):\n",
    "    \"\"\"\n",
    "    Performs a batch matrix multiplication in log space.\n",
    "\n",
    "    Args:\n",
    "        log_A: A tensor of shape (b, m, n) representing log(A).\n",
    "        log_B: A tensor of shape (b, n, p) representing log(B).\n",
    "\n",
    "    Returns:\n",
    "        A tensor of shape (b, m, p) representing log(A @ B).\n",
    "    \"\"\"\n",
    "    b, m, n = log_A.shape\n",
    "    _, _, p = log_B.shape\n",
    "\n",
    "    # 1. Expand dimensions to align for element-wise addition (broadcast)\n",
    "    log_A_expanded = log_A.unsqueeze(3)  # Shape (b, m, n, 1)\n",
    "    log_B_expanded = log_B.unsqueeze(1)  # Shape (b, 1, n, p)\n",
    "\n",
    "    # 2. Perform addition in log-space for equivalent to product in linear space\n",
    "    log_product = log_A_expanded + log_B_expanded  # Shape (b, m, n, p)\n",
    "\n",
    "    # 3. LogSumExp over the `n` dimension (matrix multiplication reduction)\n",
    "    log_C = torch.logsumexp(log_product, dim=2)  # Shape (b, m, p)\n",
    "\n",
    "    return log_C"
   ]
  },
  {
   "cell_type": "code",
   "execution_count": 22,
   "metadata": {},
   "outputs": [],
   "source": [
    "got = log_bmm2(torch.log(a), torch.log(b)).exp()"
   ]
  },
  {
   "cell_type": "code",
   "execution_count": 23,
   "metadata": {},
   "outputs": [
    {
     "data": {
      "text/plain": [
       "torch.Size([2, 3, 4])"
      ]
     },
     "execution_count": 23,
     "metadata": {},
     "output_type": "execute_result"
    }
   ],
   "source": [
    "got.shape"
   ]
  },
  {
   "cell_type": "code",
   "execution_count": 24,
   "metadata": {},
   "outputs": [
    {
     "data": {
      "text/plain": [
       "torch.Size([2, 3, 4])"
      ]
     },
     "execution_count": 24,
     "metadata": {},
     "output_type": "execute_result"
    }
   ],
   "source": [
    "expected.shape"
   ]
  },
  {
   "cell_type": "code",
   "execution_count": 25,
   "metadata": {},
   "outputs": [],
   "source": [
    "assert torch.allclose(got, expected)"
   ]
  },
  {
   "cell_type": "code",
   "execution_count": null,
   "metadata": {},
   "outputs": [],
   "source": []
  }
 ],
 "metadata": {
  "kernelspec": {
   "display_name": ".venv",
   "language": "python",
   "name": "python3"
  },
  "language_info": {
   "codemirror_mode": {
    "name": "ipython",
    "version": 3
   },
   "file_extension": ".py",
   "mimetype": "text/x-python",
   "name": "python",
   "nbconvert_exporter": "python",
   "pygments_lexer": "ipython3",
   "version": "3.11.11"
  }
 },
 "nbformat": 4,
 "nbformat_minor": 2
}
