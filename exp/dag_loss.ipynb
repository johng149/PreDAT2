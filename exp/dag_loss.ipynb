{
 "cells": [
  {
   "cell_type": "code",
   "execution_count": 19,
   "metadata": {},
   "outputs": [],
   "source": [
    "import torch"
   ]
  },
  {
   "cell_type": "code",
   "execution_count": 20,
   "metadata": {},
   "outputs": [],
   "source": [
    "target_seq = torch.tensor([1,3,2,4,0])"
   ]
  },
  {
   "cell_type": "code",
   "execution_count": 21,
   "metadata": {},
   "outputs": [],
   "source": [
    "num_vertices = 10\n",
    "vocab_size = 5"
   ]
  },
  {
   "cell_type": "code",
   "execution_count": 22,
   "metadata": {},
   "outputs": [],
   "source": [
    "transition_matrix = torch.tensor(\n",
    "    [\n",
    "        [0, 0.9, 0.04, 0, 0.06, 0, 0, 0, 0, 0],\n",
    "        [0, 0, 0, 0, 0, 0, 1, 0, 0, 0],\n",
    "        [0, 0, 0, 1, 0, 0, 0, 0, 0, 0],\n",
    "        [0, 0, 0, 0, 0, 0, 0, 0, 1, 0],\n",
    "        [0, 0, 0, 0, 0, 0.5, 0.5, 0, 0, 0],\n",
    "        [0, 0, 0, 0, 0, 0, 0, 1, 0, 0],\n",
    "        [0, 0, 0, 0, 0, 0, 0, 1, 0, 0],\n",
    "        [0, 0, 0, 0, 0, 0, 0, 0, 0, 1],\n",
    "        [0, 0, 0, 0, 0, 0, 0, 0, 0, 1],\n",
    "        [0, 0, 0, 0, 0, 0, 0, 0, 0, 0]\n",
    "    ]\n",
    ")\n",
    "emission_matrix = torch.ones(num_vertices, vocab_size) / vocab_size"
   ]
  },
  {
   "cell_type": "code",
   "execution_count": 23,
   "metadata": {},
   "outputs": [],
   "source": [
    "def dfs(target_seq, transition_matrix, emission_matrix, seq, prob, storage):\n",
    "    if len(seq) == len(target_seq):\n",
    "        storage.append((seq, prob))\n",
    "        return\n",
    "    if len(seq) == 0:\n",
    "        start_prob = emission_matrix[0][target_seq[0]]\n",
    "        dfs(target_seq, transition_matrix, emission_matrix, [0], start_prob, storage)\n",
    "    else:\n",
    "        next_candidates = transition_matrix[seq[-1]]\n",
    "        for i, p in enumerate(next_candidates):\n",
    "            if p > 0:\n",
    "                new_prob = prob * p * emission_matrix[i][target_seq[len(seq)]]\n",
    "                dfs(target_seq, transition_matrix, emission_matrix, seq + [i], new_prob, storage)\n",
    "                \n",
    "def max_prob_path(storage):\n",
    "    max_prob = 0\n",
    "    max_seq = []\n",
    "    for seq, prob in storage:\n",
    "        if prob > max_prob:\n",
    "            max_prob = prob\n",
    "            max_seq = seq\n",
    "    return max_seq, max_prob"
   ]
  },
  {
   "cell_type": "code",
   "execution_count": 24,
   "metadata": {},
   "outputs": [],
   "source": [
    "storage = []"
   ]
  },
  {
   "cell_type": "code",
   "execution_count": 25,
   "metadata": {},
   "outputs": [],
   "source": [
    "dfs(target_seq, transition_matrix, emission_matrix, [], 1, storage)"
   ]
  },
  {
   "cell_type": "code",
   "execution_count": 26,
   "metadata": {},
   "outputs": [
    {
     "data": {
      "text/plain": [
       "([0, 1, 6, 7, 9], tensor(0.0003))"
      ]
     },
     "execution_count": 26,
     "metadata": {},
     "output_type": "execute_result"
    }
   ],
   "source": [
    "max_prob_path(storage)"
   ]
  },
  {
   "cell_type": "code",
   "execution_count": null,
   "metadata": {},
   "outputs": [],
   "source": []
  }
 ],
 "metadata": {
  "kernelspec": {
   "display_name": ".venv",
   "language": "python",
   "name": "python3"
  },
  "language_info": {
   "codemirror_mode": {
    "name": "ipython",
    "version": 3
   },
   "file_extension": ".py",
   "mimetype": "text/x-python",
   "name": "python",
   "nbconvert_exporter": "python",
   "pygments_lexer": "ipython3",
   "version": "3.10.6"
  }
 },
 "nbformat": 4,
 "nbformat_minor": 2
}
