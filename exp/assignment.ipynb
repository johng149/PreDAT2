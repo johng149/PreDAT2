{
 "cells": [
  {
   "cell_type": "code",
   "execution_count": 9,
   "metadata": {},
   "outputs": [],
   "source": [
    "import torch"
   ]
  },
  {
   "cell_type": "code",
   "execution_count": 10,
   "metadata": {},
   "outputs": [],
   "source": [
    "assignments = torch.tensor(\n",
    "    [\n",
    "        [0, 4, 5, 7, 9],\n",
    "        [0, 1, 6, 7, 9]\n",
    "    ]\n",
    ")\n",
    "targets = torch.tensor(\n",
    "    [\n",
    "        [1, 3, 2, 4, 0],\n",
    "        [2, 1, 3, 0, 4]\n",
    "    ]\n",
    ")\n",
    "pad_idx = 5"
   ]
  },
  {
   "cell_type": "code",
   "execution_count": 11,
   "metadata": {},
   "outputs": [],
   "source": [
    "normal_input = torch.full((2, 10), pad_idx)"
   ]
  },
  {
   "cell_type": "code",
   "execution_count": 12,
   "metadata": {},
   "outputs": [],
   "source": [
    "normal_input = normal_input.scatter(1, assignments, targets)"
   ]
  },
  {
   "cell_type": "code",
   "execution_count": 14,
   "metadata": {},
   "outputs": [],
   "source": [
    "expected = torch.full((2, 10), pad_idx)"
   ]
  },
  {
   "cell_type": "code",
   "execution_count": 15,
   "metadata": {},
   "outputs": [],
   "source": [
    "expected[0, 0] = 1\n",
    "expected[0, 4] = 3\n",
    "expected[0, 5] = 2\n",
    "expected[0, 7] = 4\n",
    "expected[0, 9] = 0\n",
    "\n",
    "expected[1, 0] = 2\n",
    "expected[1, 1] = 1\n",
    "expected[1, 6] = 3\n",
    "expected[1, 7] = 0\n",
    "expected[1, 9] = 4"
   ]
  },
  {
   "cell_type": "code",
   "execution_count": 16,
   "metadata": {},
   "outputs": [
    {
     "data": {
      "text/plain": [
       "True"
      ]
     },
     "execution_count": 16,
     "metadata": {},
     "output_type": "execute_result"
    }
   ],
   "source": [
    "torch.allclose(normal_input, expected)"
   ]
  },
  {
   "cell_type": "code",
   "execution_count": 17,
   "metadata": {},
   "outputs": [
    {
     "data": {
      "text/plain": [
       "(tensor([[1, 5, 5, 5, 3, 2, 5, 4, 5, 0],\n",
       "         [2, 1, 5, 5, 5, 5, 3, 0, 5, 4]]),\n",
       " tensor([[1, 5, 5, 5, 3, 2, 5, 4, 5, 0],\n",
       "         [2, 1, 5, 5, 5, 5, 3, 0, 5, 4]]))"
      ]
     },
     "execution_count": 17,
     "metadata": {},
     "output_type": "execute_result"
    }
   ],
   "source": [
    "normal_input, expected"
   ]
  },
  {
   "cell_type": "code",
   "execution_count": null,
   "metadata": {},
   "outputs": [],
   "source": []
  }
 ],
 "metadata": {
  "kernelspec": {
   "display_name": ".venv",
   "language": "python",
   "name": "python3"
  },
  "language_info": {
   "codemirror_mode": {
    "name": "ipython",
    "version": 3
   },
   "file_extension": ".py",
   "mimetype": "text/x-python",
   "name": "python",
   "nbconvert_exporter": "python",
   "pygments_lexer": "ipython3",
   "version": "3.10.6"
  }
 },
 "nbformat": 4,
 "nbformat_minor": 2
}
